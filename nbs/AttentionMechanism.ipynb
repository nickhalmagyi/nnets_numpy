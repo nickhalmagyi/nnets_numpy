{
 "cells": [
  {
   "cell_type": "markdown",
   "id": "f4b91dd5-b382-48bd-aa2b-347b4eaa5ecf",
   "metadata": {},
   "source": [
    "# Attention Mechanism\n",
    "\n",
    "The attention mechanism is a function which encodes an ordered set of vectors, where the vectors are usually word embeddings and the ordered set is a sentence:\n",
    "\n",
    "$$\\begin{align}\n",
    "{\\rm Att}(X)_{W_Q,W_K,W_V} = {\\rm softmax} \\Big( \\frac{1}{\\sqrt{d_K}}Q K^T \\Big) V\n",
    "\\end{align}$$\n",
    "where \n",
    "* $X$ is a $(s, w)$ matrix representing a sentence (or window). This window might be thought of as a mini-batch.\n",
    "* $(Q,K,V)=(X\\, W_Q,X\\, W_K,X\\, W_V) $ where $(W_Q, W_K, W_V)$ are $(w,d_K)$ sized matrices\n",
    "\n",
    "With the following data:\n",
    "* $w$ - size of a word embedding vector\n",
    "* $d_K$ - size of the attention head\n",
    "* $s$ - max number of tokens in a window\n",
    "\n",
    "then the objects have the following dimensions\n",
    "* $Q,K,V$ - $(s,d_k)$ matrices\n",
    "* $Q K^T$ - $(s,s)$ matrix\n",
    "* ${\\rm Att}(X)_{W_Q,W_K,W_V}$ - $(s,d_k)$ matrix \n",
    "\n",
    "The simplest way to convert $X$ into a $(s,d_k)$ matrix would be to use a single $(w,d_k)$ sized matrix. However this would not be any richer than the word embeddings themselves.\n",
    "\n",
    "Now that we have encoded the word-window, we can chain several attention heads together. We are also free to use different sizes $d_k$ for each head. In the end it will produce a $(s,d)$ matrix for whatever size $d$ we have chosen for the final attention layer.\n",
    "\n",
    "The intermediate matrix $Q K^T$ is often referred to as the \"weight matrix\"."
   ]
  },
  {
   "cell_type": "code",
   "execution_count": 24,
   "id": "6ca6c894-82e4-47fd-a02b-221aa2957e90",
   "metadata": {
    "tags": []
   },
   "outputs": [],
   "source": [
    "import numpy as np\n",
    "import numpy.random as random\n",
    "from scipy.special import softmax"
   ]
  },
  {
   "cell_type": "code",
   "execution_count": 52,
   "id": "ebc1b9eb-b37d-4bba-87a1-2f99de603a6b",
   "metadata": {
    "tags": []
   },
   "outputs": [
    {
     "name": "stdout",
     "output_type": "stream",
     "text": [
      "True\n"
     ]
    }
   ],
   "source": [
    "# word embeddings\n",
    "sentence_length = 5\n",
    "word_embedding_size = 7\n",
    "\n",
    "# this sentence is a random bunch of words\n",
    "sentence = np.random.randint(2, size=(sentence_length, word_embedding_size))\n",
    "\n",
    "print(sentence.shape == (sentence_length, word_embedding_size))"
   ]
  },
  {
   "cell_type": "code",
   "execution_count": 54,
   "id": "742d3cf4-ac48-4ac9-8896-9ee02dea2de1",
   "metadata": {
    "tags": []
   },
   "outputs": [],
   "source": [
    "attention_size = 3\n",
    "\n",
    "W_Q = random.randint(2, size=(word_embedding_size, attention_size))\n",
    "W_K = random.randint(2, size=(word_embedding_size, attention_size))\n",
    "W_V = random.randint(2, size=(word_embedding_size, attention_size))\n",
    "\n",
    "# generating the queries, keys and values\n",
    "Q = sentence @ W_Q\n",
    "K = sentence @ W_K\n",
    "V = sentence @ W_V"
   ]
  },
  {
   "cell_type": "code",
   "execution_count": 57,
   "id": "dc9d9d58-23da-4efe-9b77-a59d661ffbd5",
   "metadata": {
    "tags": []
   },
   "outputs": [
    {
     "name": "stdout",
     "output_type": "stream",
     "text": [
      "True\n",
      "True\n",
      "True\n",
      "True\n"
     ]
    }
   ],
   "source": [
    "print(sentence.shape==(sentence_length, word_embedding_size))\n",
    "print(Q.shape==(sentence_length, attention_size))\n",
    "print(K.shape==(sentence_length, attention_size))\n",
    "print(V.shape==(sentence_length, attention_size))"
   ]
  },
  {
   "cell_type": "code",
   "execution_count": 59,
   "id": "5bbee872-5599-4a1b-9e58-352300ef4ca2",
   "metadata": {
    "tags": []
   },
   "outputs": [
    {
     "name": "stdout",
     "output_type": "stream",
     "text": [
      "True\n"
     ]
    }
   ],
   "source": [
    "# The weights are the normalized scores\n",
    "weights = softmax(Q @ K.transpose() / attention_size**0.5, axis=1)\n",
    "\n",
    "print(weights.shape==(sentence_length,sentence_length))"
   ]
  },
  {
   "cell_type": "code",
   "execution_count": 61,
   "id": "91524676-a327-4d29-a1f1-aed9ddc9b69f",
   "metadata": {
    "tags": []
   },
   "outputs": [
    {
     "name": "stdout",
     "output_type": "stream",
     "text": [
      "True\n"
     ]
    }
   ],
   "source": [
    "# computing the attention by a weighted sum of the value vectors\n",
    "attention = weights @ V\n",
    "\n",
    "print(attention.shape==(sentence_length,attention_size))"
   ]
  },
  {
   "cell_type": "code",
   "execution_count": null,
   "id": "cbf91268-0ac4-437e-9f06-9d8cf78aa61f",
   "metadata": {},
   "outputs": [],
   "source": []
  }
 ],
 "metadata": {
  "kernelspec": {
   "display_name": "Python 3 (ipykernel)",
   "language": "python",
   "name": "python3"
  },
  "language_info": {
   "codemirror_mode": {
    "name": "ipython",
    "version": 3
   },
   "file_extension": ".py",
   "mimetype": "text/x-python",
   "name": "python",
   "nbconvert_exporter": "python",
   "pygments_lexer": "ipython3",
   "version": "3.11.0"
  }
 },
 "nbformat": 4,
 "nbformat_minor": 5
}
