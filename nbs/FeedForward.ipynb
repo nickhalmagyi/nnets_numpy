{
 "cells": [
  {
   "cell_type": "code",
   "execution_count": 372,
   "id": "3b897686-d539-478d-a68b-652e10c142b2",
   "metadata": {
    "tags": []
   },
   "outputs": [],
   "source": [
    "import numpy as np\n",
    "import pandas as pd\n",
    "import time\n",
    "import matplotlib.pyplot as plt"
   ]
  },
  {
   "cell_type": "markdown",
   "id": "b89e2115-9ef6-424b-8bae-a56c51fe5189",
   "metadata": {},
   "source": [
    "# Backward Pass"
   ]
  },
  {
   "cell_type": "markdown",
   "id": "51ec4556-a0d8-4e31-aba4-05c752e5ca5d",
   "metadata": {},
   "source": [
    "The forward pass at the $l$-th layer is $a^{l-1} \\rightarrow a^{l}$ \n",
    "$$\\begin{align}\n",
    "z_{ia}^l &= w_{i\\alpha}^l a^{l-1}_{\\alpha a} + b^{l-1}_i\\otimes 1\\!\\!1_a  \\\\\n",
    "a^l &= f(z^l)\n",
    "\\end{align}$$\n",
    "and the error at layer $l$ is\n",
    "$$ \\delta^l = \\frac{\\partial L}{\\partial z^l} = \\frac{\\partial L}{\\partial a^l} f'(z^l)$$\n",
    "\n",
    "We want to compute the change in the weights for each batch\n",
    "$$ \\begin{align}\n",
    "\\frac{\\partial L}{\\partial w^l} &= \\frac{\\partial L}{\\partial z^l}\\frac{\\partial z^l}{\\partial w^l} \\\\\n",
    "&= \\delta^l a^{l-1}\n",
    "\\end{align}$$\n",
    " \n",
    "So we just need a computable expression for the error, which is obtained as follows\n",
    "$$\\begin{align}\n",
    "\\frac{\\partial L}{\\partial a^l} &=\\frac{\\partial L}{\\partial z^{l+1}}\\frac{\\partial z^{l+1}}{\\partial a^l} \\\\\n",
    "&= \\delta^{l+1} w^{l+1}\n",
    "\\end{align}$$\n",
    "\n",
    "In summary we have\n",
    "$$\\begin{align}\n",
    "\\delta^l&= \\delta^{l+1} w^{l+1}f'(z^l)\n",
    "\\end{align}$$\n",
    "\n",
    "We have used the notation\n",
    "$$\\begin{align}\n",
    "\\alpha &= 1\\,,\\ldots \\,, n_{l-1}  \\quad {\\rm size\\ of}\\ (l-1){\\rm-th\\ hidden\\ layer}\n",
    "\\\\\n",
    "i &= 1\\,,\\ldots \\,, n_l  \\quad {\\rm size\\ of}\\ l{\\rm-th\\ hidden\\ layer} \\\\\n",
    "a &= 1\\,,\\ldots \\,, n_b \\quad {\\rm batch\\ size}\n",
    "\\end{align}$$\n"
   ]
  },
  {
   "cell_type": "markdown",
   "id": "fb47f37f-47ad-49d6-9324-a483573801d8",
   "metadata": {},
   "source": [
    "So we see that to compute the forward pass the $l$-th layer must receive just $a^{l-1}$."
   ]
  },
  {
   "cell_type": "markdown",
   "id": "6cd63ace-6772-4d17-aaf9-73a5b46b6fac",
   "metadata": {},
   "source": [
    "## Boundary Condition: Regression"
   ]
  },
  {
   "cell_type": "markdown",
   "id": "44ca1b16-0635-44f0-91e7-57bbbc783a37",
   "metadata": {},
   "source": [
    "In regression, the final activation function is the identity and the loss function we take to be RMSE\n",
    "$$\\begin{align}\n",
    "L &= \\big(\\sum_a (a^L_b - y_b)^2\\big)^{1/2}\n",
    "\\end{align}$$\n",
    "\n",
    "We need to compute explicitly the error\n",
    "$$\\begin{align}\n",
    "\\delta^L &= \\frac{\\partial L}{\\partial a^L_{ia}} \\\\\n",
    "&= \\frac{1}{2} \\frac{a^L-y}{L}\n",
    "\\end{align}$$\n"
   ]
  },
  {
   "cell_type": "markdown",
   "id": "c09afd04-2a5a-46c5-aeb1-aab43b812dac",
   "metadata": {},
   "source": [
    "# Feed Forward Net in Numpy"
   ]
  },
  {
   "cell_type": "code",
   "execution_count": 317,
   "id": "56351821-ca82-462e-9462-f6c35eaeb1b1",
   "metadata": {
    "tags": []
   },
   "outputs": [],
   "source": [
    "class Dense:\n",
    "    \"\"\"\n",
    "    Dense Layer for a Neural Network.\n",
    "    \n",
    "    Key methods are [forward, backward], \n",
    "    to implement these we need to define various \n",
    "    activation functions.\n",
    "    \"\"\"\n",
    "    \n",
    "    \n",
    "    def __init__(self, size, activation=None):\n",
    "        \n",
    "        self.N_out = size\n",
    "        self.activation = activation\n",
    "        \n",
    "        \n",
    "    def init_weights(self, N_in=None, sigma=1, mu=0):\n",
    "        \n",
    "        self.W = np.random.default_rng().normal(loc=mu, scale=sigma, size=(self.N_out, N_in))\n",
    "        self.b = np.random.default_rng().normal(loc=mu, scale=sigma, size=self.N_out)\n",
    "        \n",
    "    \n",
    "    def sigmoid(self, x):\n",
    "        \"\"\"\n",
    "        There can be numerical instabilities when computing exponentials\n",
    "        https://timvieira.github.io/blog/post/2014/02/11/exp-normalize-trick/\n",
    "        \n",
    "        We want to avoid computing e^(x) when x is moderately large, as this will quickly be \n",
    "        bigger than any float. On the other hand, e^(-x) is OK when x is moderately large as \n",
    "        it goes to zero.\n",
    "        \"\"\"\n",
    "        def sigmoid_xpos(x):\n",
    "            # e^(-x) <= 1, so not large\n",
    "            z = np.exp(-x)\n",
    "            return 1 / (1 + z)\n",
    "\n",
    "        def sigmoid_xneg(x):\n",
    "            # e^(x) <=1, so not large\n",
    "            z = np.exp(x)\n",
    "            return z / (1 + z)\n",
    "    \n",
    "        return np.where(x >= 0, sigmoid_xpos(x), sigmoid_xneg(x))\n",
    "\n",
    "\n",
    "    \n",
    "    def relu(self, x):\n",
    "        \n",
    "        return np.maximum(x, 0)\n",
    "    \n",
    "    \n",
    "    def sigmoid_deriv(self, x):\n",
    "        \n",
    "        return self.sigmoid(x) * (1 - self.sigmoid(x))\n",
    "    \n",
    "    \n",
    "    def relu_deriv(self, x):\n",
    "    \n",
    "        return (x > 0) * 1\n",
    "    \n",
    "    \n",
    "    def forward(self, A_in):\n",
    "        \n",
    "        \"\"\"\n",
    "        To compute the backward pass we will need the input from the previous layer\n",
    "        and the Z from the current layer and the error from the subsequent layer.\n",
    "        \"\"\"\n",
    "        self.A_in = A_in\n",
    "        \n",
    "        batch_size = A_in.shape[0]\n",
    "        Z = np.dot(A_in, self.W.T) + np.tile(self.b, [batch_size, 1])\n",
    "        \n",
    "        if self.activation == 'relu':\n",
    "            A = self.relu(Z)\n",
    "            self.fZ_deriv = self.relu_deriv(Z)\n",
    "            \n",
    "        elif self.activation == 'sigmoid':\n",
    "            A = self.sigmoid(Z)\n",
    "            self.fZ_deriv = self.sigmoid_deriv(Z)\n",
    "\n",
    "        elif self.activation == 'id':\n",
    "            A = Z\n",
    "\n",
    "        elif self.activation == 'softmax':\n",
    "            A = self.softmax(Z)\n",
    "            self.fZ_deriv = self.softmax_deriv(Z)\n",
    "            \n",
    "        return A   \n",
    "\n",
    "\n",
    "    def backward(self, A):\n",
    "\n",
    "        return A @ self.W\n",
    "    \n",
    "\n",
    "def RMSE(X, y):\n",
    "    \n",
    "    return np.sum((X - y)**2)**(1/2)"
   ]
  },
  {
   "cell_type": "code",
   "execution_count": 384,
   "id": "0e7cc1fe-2793-4d2f-bed0-be6ec6729c28",
   "metadata": {
    "tags": []
   },
   "outputs": [],
   "source": [
    "class Model:\n",
    "    \n",
    "    def __init__(self, layer_sizes, input_size):\n",
    "        self.layer_sizes = layer_sizes\n",
    "        self.input_size = input_size\n",
    "        self.layers = self._make_layers()\n",
    "        \n",
    "            \n",
    "    def _make_input_sizes(self):\n",
    "        \n",
    "        self.N_ins = [self.input_size] + self.layer_sizes[:-1]\n",
    "        \n",
    "    def _make_layers(self):\n",
    "        return [Dense(size=layer_size, activation='relu') for layer_size in layer_sizes[:-1]] \\\n",
    "            + [Dense(size=layer_sizes[-1], activation='id')]\n",
    "\n",
    "    \n",
    "    def initialize_weights(self):\n",
    "        for layer, N_in in zip(self.layers, self.N_ins):\n",
    "            layer.init_weights(N_in=N_in)\n",
    "\n",
    "            \n",
    "    def forward_pass(self, data):\n",
    "        A = self.layers[0].forward(data)\n",
    "        for layer in self.layers[1:-1]:\n",
    "            A = layer.forward(A)\n",
    "\n",
    "        A = self.layers[-1].forward(A)\n",
    "        y_pred = A.reshape(A.shape[0], layers[-1].N_out)\n",
    "\n",
    "        return y_pred\n",
    "    \n",
    "    \n",
    "    def backward_pass(self, y_pred, learning_rate=0.1):\n",
    "        \n",
    "        final_layer = True\n",
    "        for layer in self.layers[::-1]:\n",
    "\n",
    "            if final_layer:\n",
    "                layer.delta = (y_pred - y_true) / (2 * L)\n",
    "                final_layer = False\n",
    "            else:\n",
    "                layer.delta = np.multiply(next_layer.delta @ next_layer.W, layer.fZ_deriv)\n",
    "                \n",
    "            layer.dLdW = layer.delta.T @ layer.A_in\n",
    "            \n",
    "            next_layer = layer\n",
    "                    \n",
    "        # perform SGD on the weights\n",
    "        for layer in self.layers:\n",
    "            \n",
    "            layer.W +- learning_rate * layer.dLdW\n",
    "            \n",
    "        \n",
    "    def train(self, learning_rate, epochs=3):\n",
    "        \n",
    "        start = time.time()\n",
    "        \n",
    "        for epoch_num in range(epochs):\n",
    "            \n",
    "            y_pred = model.forward_pass(data)\n",
    "            model.backward_pass(y_pred=y_pred, learning_rate=learning_rate)      \n",
    "            print(f'epoch {epoch_num}: {time.time()-start}')"
   ]
  },
  {
   "cell_type": "code",
   "execution_count": null,
   "id": "b832ccb1-c290-4b95-8991-7cc86011b6ae",
   "metadata": {},
   "outputs": [],
   "source": []
  },
  {
   "cell_type": "code",
   "execution_count": 364,
   "id": "55e620ea-4697-46b0-a96b-57a3168d6cc9",
   "metadata": {
    "tags": []
   },
   "outputs": [
    {
     "name": "stdout",
     "output_type": "stream",
     "text": [
      "L 10.437375248111923\n",
      "epoch 0: 0.0002181529998779297\n",
      "epoch 1: 0.000408172607421875\n",
      "epoch 2: 0.0005562305450439453\n",
      "epoch 3: 0.0008351802825927734\n",
      "epoch 4: 0.0009911060333251953\n"
     ]
    }
   ],
   "source": [
    "batch_size = 6\n",
    "sample_size = 2\n",
    "data = np.random.random((batch_size, sample_size))\n",
    "\n",
    "# architecture\n",
    "layer_sizes = [2,3,4,5]\n",
    "\n",
    "y_true = np.random.random((batch_size, layer_sizes[-1]))\n",
    "\n",
    "# The data input size at each layer\n",
    "# N_ins = [sample_size] + [layer_size for layer_size in layer_sizes[:-1]]\n",
    "\n",
    "            \n",
    "model = Model(layer_sizes)\n",
    "model.initialize_weights()\n",
    "\n",
    "y_pred = model.forward_pass(data)\n",
    "L = RMSE(y_pred, y_true)\n",
    "print('L', L)\n",
    "\n",
    "learning_rate = 0.01\n",
    "epochs = 5\n",
    "model.train(learning_rate=learning_rate, epochs=epochs)"
   ]
  },
  {
   "cell_type": "markdown",
   "id": "31394f6b-9486-42b7-a6ec-c4666a648356",
   "metadata": {
    "tags": []
   },
   "source": [
    "We want a set of errors  $[\\delta^0, \\delta^1,\\ldots \\delta^{L-1}]$"
   ]
  },
  {
   "cell_type": "markdown",
   "id": "50772a0e-4b6a-4062-b016-d5855dca4447",
   "metadata": {},
   "source": [
    "# Sine Function Approximation"
   ]
  },
  {
   "cell_type": "code",
   "execution_count": 382,
   "id": "d3518c31-43aa-4b09-ac3e-46807be7b0bd",
   "metadata": {
    "tags": []
   },
   "outputs": [],
   "source": [
    "data_size = 1000\n",
    "data = np.array(list(range(0, data_size)))\n",
    "\n",
    "mu, sigma = 0, 0.3\n",
    "noise = np.random.default_rng().normal(loc=mu, scale=sigma, size=data_size)\n",
    "\n",
    "y_true = [np.sin(2* np.pi * x /data_size) for x in data]"
   ]
  },
  {
   "cell_type": "code",
   "execution_count": 383,
   "id": "124a05c9-51ed-44da-9db1-140d6077dcb6",
   "metadata": {
    "tags": []
   },
   "outputs": [
    {
     "data": {
      "image/png": "[encoded data removed]",
      "text/plain": [
       "<Figure size 640x480 with 1 Axes>"
      ]
     },
     "metadata": {},
     "output_type": "display_data"
    }
   ],
   "source": [
    "plt.plot(data, y_true+noise)\n",
    "plt.show()"
   ]
  },
  {
   "cell_type": "code",
   "execution_count": null,
   "id": "b649d4d5-ffda-45ec-8c7a-30fb71472241",
   "metadata": {},
   "outputs": [],
   "source": []
  }
 ],
 "metadata": {
  "kernelspec": {
   "display_name": "Python 3 (ipykernel)",
   "language": "python",
   "name": "python3"
  },
  "language_info": {
   "codemirror_mode": {
    "name": "ipython",
    "version": 3
   },
   "file_extension": ".py",
   "mimetype": "text/x-python",
   "name": "python",
   "nbconvert_exporter": "python",
   "pygments_lexer": "ipython3",
   "version": "3.11.0"
  }
 },
 "nbformat": 4,
 "nbformat_minor": 5
}
